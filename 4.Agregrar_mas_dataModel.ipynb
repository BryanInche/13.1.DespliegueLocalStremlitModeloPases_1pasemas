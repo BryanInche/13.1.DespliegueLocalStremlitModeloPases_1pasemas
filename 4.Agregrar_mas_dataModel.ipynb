{
 "cells": [
  {
   "cell_type": "markdown",
   "metadata": {},
   "source": [
    "# Agregaremos mas datos para reentrenar nuestro modelo:"
   ]
  },
  {
   "cell_type": "markdown",
   "metadata": {},
   "source": [
    "### 1.Agregamos mas datos de Operacion KUNTOR"
   ]
  },
  {
   "cell_type": "code",
   "execution_count": 55,
   "metadata": {},
   "outputs": [],
   "source": [
    "#Librerias que se usaran\n",
    "import pandas as pd  # Libreria para administrar tablas, y realizar trabajos con distintas formas de tablas o dataframes\n",
    "import numpy as np   # Libreria para poder hacer operaciones matematicas y matriciales\n",
    "import matplotlib.pyplot as plt # Libreria para realizar graficos \n",
    "from tabulate import tabulate   # Permite formatear y mostrar de mejor manera los datos tabulares\n",
    "import seaborn as sns  # Libreria para realizar graficos y vizualizaciones\n",
    "import psycopg2        # Libreria que permite la conexion con PostgresSQL\n",
    "from matplotlib.backends.backend_pdf import PdfPages # Libreria que permite exportar graficos en pdf"
   ]
  },
  {
   "cell_type": "markdown",
   "metadata": {},
   "source": [
    "Establecemos la conexion con el servidor de Azure, y extraemos datos de Posgresql, que utilizaremos en el analisis"
   ]
  },
  {
   "cell_type": "code",
   "execution_count": 3,
   "metadata": {},
   "outputs": [
    {
     "name": "stdout",
     "output_type": "stream",
     "text": [
      "   capacidad_en_volumen_equipo_carguio_m3  capacidad_en_peso_equipo_carguio  capacidad_en_peso_equipo_acarreo  tonelaje_camion_antes_cargaestabilizada  angulo_giro_promedio_pases  densidad_inicial_poligono_creado                     coord_x_pases               tiem_llegada  tonelaje_segun_computadora  rownum\n",
      "0                               23.000000                         40.000000                        130.000000                                      NaN                         NaN                          2.850000                              None 2023-08-30 06:21:02.266402                         NaN       1\n",
      "1                               23.000000                         40.000000                        172.000000                                      NaN                         NaN                          2.850000                              None 2023-08-30 06:18:40.292708                         NaN       1\n",
      "2                                     NaN                               NaN                        172.000000                              1963.000000                   60.000000                               NaN  [851757, 851809, 851615, 851572] 2023-08-30 06:18:28.340000                 1840.000000       1\n",
      "3                                     NaN                               NaN                        172.000000                                      NaN                         NaN                               NaN                              None 2023-08-30 06:17:30.262000                         NaN       1\n",
      "4                                     NaN                               NaN                        172.000000                              1744.000000                   54.000000                               NaN          [759243, 759440, 759608] 2023-08-30 06:16:52.062000                 1764.000000       1\n"
     ]
    }
   ],
   "source": [
    "# Información de la conexión a PostgreSQL\n",
    "host = \"kumtorcontrolsensedb.postgres.database.azure.com\"\n",
    "database = \"ControlSenseDB\"\n",
    "user = \"postgres\"\n",
    "password = \"Larc0mar\"\n",
    "\n",
    "# Establecer la conexión a la base de datos\n",
    "try:\n",
    "    connection = psycopg2.connect(\n",
    "        host=host,\n",
    "        database=database,\n",
    "        user=user,\n",
    "        password=password\n",
    "    )\n",
    "\n",
    "    # Crear un cursor para ejecutar comandos SQL\n",
    "    cursor = connection.cursor()\n",
    "\n",
    "    # Establecer la zona horaria antes de ejecutar la consulta\n",
    "    time_zone_query = \"SET TIME ZONE 'Asia/Bishkek';\"\n",
    "    cursor.execute(time_zone_query)\n",
    "\n",
    "    # Tu consulta SQL\n",
    "    tu_query_sql = '''\n",
    "select * from (select ff.capacidad_en_volumen_equipo_carguio_m3, ff.capacidad_en_peso_equipo_carguio, f.capacidad_pes capacidad_en_peso_equipo_acarreo,\n",
    "a.tonelajevimsretain tonelaje_camion_antes_cargaestabilizada, t.angulo_giro_promedio angulo_giro_promedio_pases, o.densidad densidad_inicial_poligono_creado,\n",
    "t.coord_x coord_x_pases, a.tiem_llegada, a.tonelajevims tonelaje_segun_computadora,\n",
    "ROW_NUMBER() OVER (PARTITION BY a.id ORDER BY a.id DESC) AS RowNum\n",
    "\n",
    "from public.tp_cargadescarga a\n",
    "left join (\n",
    "SELECT tp.id id_ciclo_carguio, tp.id_palas, tp.id_equipo as id_equipo_carguio, \n",
    "tp.id_locacion, \n",
    "tp.id_poligono, tp.id_trabajador, tp.id_crew, tp.isspot, tp.bool_estado, tp.bool_equipo_next, tp.cola, \n",
    "tcd1.tiem_carga as tiempo_inicio_carga_carguio,\n",
    "tcd1.tiem_acarreo as tiempo_esperando_carguio,\n",
    "getreadytime( tp.id_equipo, tcd1.tiem_carga, tcd1.tiem_acarreo) tiempo_ready_cargando,\n",
    "getreadytime( tp.id_equipo, \n",
    "\t\t\t lag(tcd1.tiem_acarreo) OVER (PARTITION BY (COALESCE(null, true)), tp.id_equipo ORDER BY tcd1.tiem_carga), \n",
    "\t\t\t tcd1.tiem_carga) tiempo_ready_esperando,\n",
    "lag(tcd1.tiem_acarreo) OVER (PARTITION BY (COALESCE(null, true)), tp.id_equipo ORDER BY tcd1.tiem_carga) AS previous_esperando_pala,\n",
    "tcd1.tiem_acarreo,\n",
    "tcd1.tiem_carga\n",
    "FROM tp_cargadescarga tcd1\n",
    "LEFT JOIN tp_palas tp ON tp.id = (SELECT id \n",
    "\t\t\t\t\t\t  FROM tp_palas \n",
    "\t\t\t\t\t\t \tWHERE id_palas = tcd1.id_palas\n",
    "\t\t\t\t\t\t \tORDER BY ID DESC LIMIT 1)\n",
    "WHERE tcd1.tiem_elimin IS NULL\n",
    "AND tcd1.tiem_viajando IS NOT NULL\n",
    "and tp.tiem_elimin IS NULL and tcd1.tiem_carga > CAST('2023-01-01' AS DATE)) m\n",
    "on a.id_palas = m.id_palas\n",
    "\t\t\t\t \n",
    "left join public.ts_poligono o\n",
    "on m.id_poligono = o.id\n",
    "\t\t\t\t \n",
    "left join (select d.id_principal, c.id id_equipo,\n",
    "c.capacidad_pes, c.capacidadtanque\n",
    "from public.ts_equipos c\n",
    "inner join (select b.id id_principal , b.nombre principal, a.id id_secundario , a.nombre secundario from public.ts_equipos a\n",
    "inner join (select id, nombre from public.ts_equipos where id_flota = 0 and tiem_elimin is null) b\n",
    "on b.id = a.id_flota\n",
    "where a.tiem_elimin is null) d\n",
    "on d.id_secundario = c.id_flota\n",
    "where c.id_flota <> 0 and c.isflota = false and c.tiem_elimin is null\n",
    "order by d.id_principal) f\n",
    "on a.id_equipo = f.id_equipo\n",
    "\n",
    "left join (select d.id_principal, c.capacidad_vol capacidad_en_volumen_equipo_carguio_m3, c.id id_equipo,\n",
    "c.capacidad_pes capacidad_en_peso_equipo_carguio, c.radiohexagonocuchara radiohexagonocuchara_equipocarguio\n",
    "from public.ts_equipos c\n",
    "inner join (select b.id id_principal , b.nombre principal, a.id id_secundario , a.nombre secundario from public.ts_equipos a\n",
    "inner join (select id, nombre from public.ts_equipos where id_flota = 0 and tiem_elimin is null) b\n",
    "on b.id = a.id_flota\n",
    "where a.tiem_elimin is null) d\n",
    "on d.id_secundario = c.id_flota\n",
    "where c.id_flota <> 0 and c.isflota = false and c.tiem_elimin is null\n",
    "order by d.id_principal) ff\n",
    "on m.id_equipo_carguio = ff.id_equipo\n",
    "\n",
    "left join (select z.* from\n",
    "    (select A.id, A.id_equipo,\n",
    "    A.tiempo_estimado tiempo_estimado_duracion_estado, \n",
    "    ROW_NUMBER() OVER (PARTITION BY A.id_equipo ORDER BY A.id_equipo) AS row_num\n",
    "    from public.tp_estados A\n",
    "    left join public.ts_detal_estado B on A.id_detal_estado = B.id_detal_estado\n",
    "    --left join (select * from public.ts_detal_estado where id=B.id_tipo_estad limit 1) C on true\n",
    "    where A.tiem_elimin is null) z\n",
    "    WHERE\n",
    "    z.row_num = 1) ss\n",
    "on m.id_equipo_carguio = ss.id_equipo\n",
    "\n",
    "left join public.ts_locacion n\n",
    "on m.id_locacion = n.id\n",
    "left join (select * from public.ta_datacarga_sensores \n",
    "where tiem_elimin is NULL) t\n",
    "on a.id_cargadescarga = t.id_cargadescarga\n",
    "where a.tiem_elimin is null and a.tiem_llegada > CAST('2023-01-01' AS DATE)) z\n",
    "where z.RowNum = 1\n",
    "    '''\n",
    "\n",
    "    # Ejecutar la consulta\n",
    "    cursor.execute(tu_query_sql)\n",
    "\n",
    "    # Obtener los resultados en un DataFrame de pandas\n",
    "    resultados_datos = pd.DataFrame(cursor.fetchall(), columns=[desc[0] for desc in cursor.description])\n",
    "\n",
    "    # Cerrar el cursor y la conexión\n",
    "    cursor.close()\n",
    "    connection.close()\n",
    "\n",
    "    # Hacer lo que necesites con los resultados\n",
    "    print(resultados_datos.head())\n",
    "\n",
    "except psycopg2.Error as e:\n",
    "    print(\"Error al conectar a la base de datos PostgreSQL:\", e)"
   ]
  },
  {
   "cell_type": "code",
   "execution_count": 89,
   "metadata": {},
   "outputs": [],
   "source": [
    "#Configuramos pandas para que podamos vizualizar todas las columnas y filas la estadistica descriptiva de todas las variables\n",
    "pd.set_option('display.max_columns', None)\n",
    "pd.set_option('display.expand_frame_repr', False)\n",
    "pd.set_option('display.max_colwidth', None)\n",
    "pd.set_option('display.max_rows', None)\n",
    "pd.set_option('display.width', None)\n",
    "#Configuramos pandas para que lanze valores con una precision de hasta 6 decimales\n",
    "pd.set_option('display.float_format', '{:.6f}'.format)\n",
    "# Restaurar la configuración predeterminada\n",
    "#pd.set_option('display.float_format', None) "
   ]
  },
  {
   "cell_type": "markdown",
   "metadata": {},
   "source": [
    "# Guardamos los datos extraidos de Azure"
   ]
  },
  {
   "cell_type": "code",
   "execution_count": 4,
   "metadata": {},
   "outputs": [],
   "source": [
    "#Se guardaron los datos que fueron traidos de AZURE POSTGRESS\n",
    "resultados_datos.to_csv('masdatos_modelo_opkuntor_vf.csv', index=False)"
   ]
  },
  {
   "cell_type": "markdown",
   "metadata": {},
   "source": [
    "Leemos los datos Capturados (+ DATOS )"
   ]
  },
  {
   "cell_type": "code",
   "execution_count": 145,
   "metadata": {},
   "outputs": [
    {
     "data": {
      "text/html": [
       "<div>\n",
       "<style scoped>\n",
       "    .dataframe tbody tr th:only-of-type {\n",
       "        vertical-align: middle;\n",
       "    }\n",
       "\n",
       "    .dataframe tbody tr th {\n",
       "        vertical-align: top;\n",
       "    }\n",
       "\n",
       "    .dataframe thead th {\n",
       "        text-align: right;\n",
       "    }\n",
       "</style>\n",
       "<table border=\"1\" class=\"dataframe\">\n",
       "  <thead>\n",
       "    <tr style=\"text-align: right;\">\n",
       "      <th></th>\n",
       "      <th>capacidad_en_volumen_equipo_carguio_m3</th>\n",
       "      <th>capacidad_en_peso_equipo_carguio</th>\n",
       "      <th>capacidad_en_peso_equipo_acarreo</th>\n",
       "      <th>tonelaje_camion_antes_cargaestabilizada</th>\n",
       "      <th>angulo_giro_promedio_pases</th>\n",
       "      <th>densidad_inicial_poligono_creado</th>\n",
       "      <th>coord_x_pases</th>\n",
       "      <th>tiem_llegada</th>\n",
       "      <th>tonelaje_segun_computadora</th>\n",
       "      <th>rownum</th>\n",
       "    </tr>\n",
       "  </thead>\n",
       "  <tbody>\n",
       "    <tr>\n",
       "      <th>0</th>\n",
       "      <td>23.000000</td>\n",
       "      <td>40.000000</td>\n",
       "      <td>130.000000</td>\n",
       "      <td>NaN</td>\n",
       "      <td>NaN</td>\n",
       "      <td>2.850000</td>\n",
       "      <td>NaN</td>\n",
       "      <td>2023-08-30 06:21:02.266402</td>\n",
       "      <td>NaN</td>\n",
       "      <td>1</td>\n",
       "    </tr>\n",
       "    <tr>\n",
       "      <th>1</th>\n",
       "      <td>23.000000</td>\n",
       "      <td>40.000000</td>\n",
       "      <td>172.000000</td>\n",
       "      <td>NaN</td>\n",
       "      <td>NaN</td>\n",
       "      <td>2.850000</td>\n",
       "      <td>NaN</td>\n",
       "      <td>2023-08-30 06:18:40.292708</td>\n",
       "      <td>NaN</td>\n",
       "      <td>1</td>\n",
       "    </tr>\n",
       "    <tr>\n",
       "      <th>2</th>\n",
       "      <td>NaN</td>\n",
       "      <td>NaN</td>\n",
       "      <td>172.000000</td>\n",
       "      <td>1963.000000</td>\n",
       "      <td>60.000000</td>\n",
       "      <td>NaN</td>\n",
       "      <td>[851757, 851809, 851615, 851572]</td>\n",
       "      <td>2023-08-30 06:18:28.340000</td>\n",
       "      <td>1840.000000</td>\n",
       "      <td>1</td>\n",
       "    </tr>\n",
       "    <tr>\n",
       "      <th>3</th>\n",
       "      <td>NaN</td>\n",
       "      <td>NaN</td>\n",
       "      <td>172.000000</td>\n",
       "      <td>NaN</td>\n",
       "      <td>NaN</td>\n",
       "      <td>NaN</td>\n",
       "      <td>NaN</td>\n",
       "      <td>2023-08-30 06:17:30.262000</td>\n",
       "      <td>NaN</td>\n",
       "      <td>1</td>\n",
       "    </tr>\n",
       "    <tr>\n",
       "      <th>4</th>\n",
       "      <td>NaN</td>\n",
       "      <td>NaN</td>\n",
       "      <td>172.000000</td>\n",
       "      <td>1744.000000</td>\n",
       "      <td>54.000000</td>\n",
       "      <td>NaN</td>\n",
       "      <td>[759243, 759440, 759608]</td>\n",
       "      <td>2023-08-30 06:16:52.062000</td>\n",
       "      <td>1764.000000</td>\n",
       "      <td>1</td>\n",
       "    </tr>\n",
       "  </tbody>\n",
       "</table>\n",
       "</div>"
      ],
      "text/plain": [
       "   capacidad_en_volumen_equipo_carguio_m3  capacidad_en_peso_equipo_carguio  capacidad_en_peso_equipo_acarreo  tonelaje_camion_antes_cargaestabilizada  angulo_giro_promedio_pases  densidad_inicial_poligono_creado                     coord_x_pases                tiem_llegada  tonelaje_segun_computadora  rownum\n",
       "0                               23.000000                         40.000000                        130.000000                                      NaN                         NaN                          2.850000                               NaN  2023-08-30 06:21:02.266402                         NaN       1\n",
       "1                               23.000000                         40.000000                        172.000000                                      NaN                         NaN                          2.850000                               NaN  2023-08-30 06:18:40.292708                         NaN       1\n",
       "2                                     NaN                               NaN                        172.000000                              1963.000000                   60.000000                               NaN  [851757, 851809, 851615, 851572]  2023-08-30 06:18:28.340000                 1840.000000       1\n",
       "3                                     NaN                               NaN                        172.000000                                      NaN                         NaN                               NaN                               NaN  2023-08-30 06:17:30.262000                         NaN       1\n",
       "4                                     NaN                               NaN                        172.000000                              1744.000000                   54.000000                               NaN          [759243, 759440, 759608]  2023-08-30 06:16:52.062000                 1764.000000       1"
      ]
     },
     "execution_count": 145,
     "metadata": {},
     "output_type": "execute_result"
    }
   ],
   "source": [
    "datos_kuntor = pd.read_csv('masdatos_modelo_opkuntor_vf.csv')\n",
    "datos_kuntor.head()"
   ]
  },
  {
   "cell_type": "markdown",
   "metadata": {},
   "source": [
    "### 2. Preprocesamiento de datos"
   ]
  },
  {
   "cell_type": "markdown",
   "metadata": {},
   "source": [
    "Tratamiento de Valores Faltantes"
   ]
  },
  {
   "cell_type": "code",
   "execution_count": 146,
   "metadata": {},
   "outputs": [
    {
     "name": "stdout",
     "output_type": "stream",
     "text": [
      "capacidad_en_volumen_equipo_carguio_m3       3703\n",
      "capacidad_en_peso_equipo_carguio             3703\n",
      "capacidad_en_peso_equipo_acarreo                4\n",
      "tonelaje_camion_antes_cargaestabilizada     28107\n",
      "angulo_giro_promedio_pases                 413078\n",
      "densidad_inicial_poligono_creado               60\n",
      "coord_x_pases                              413078\n",
      "tiem_llegada                                    0\n",
      "tonelaje_segun_computadora                   9342\n",
      "rownum                                          0\n",
      "dtype: int64\n"
     ]
    }
   ],
   "source": [
    "print(datos_kuntor.isnull().sum())"
   ]
  },
  {
   "cell_type": "code",
   "execution_count": 147,
   "metadata": {},
   "outputs": [],
   "source": [
    "#Funcion para tratamiento de Valores Nulos (completar los Nulos por las Medias)\n",
    "import pandas as pd\n",
    "\n",
    "def llenar_nulos_con_media(df, nombre_columna):\n",
    "    media_columna = df[nombre_columna].mean()\n",
    "    df[nombre_columna] = df[nombre_columna].fillna(media_columna)\n",
    "    return df"
   ]
  },
  {
   "cell_type": "code",
   "execution_count": 148,
   "metadata": {},
   "outputs": [
    {
     "name": "stdout",
     "output_type": "stream",
     "text": [
      "\n",
      "Valores nulos después de eliminar filas:\n",
      "capacidad_en_volumen_equipo_carguio_m3     0\n",
      "capacidad_en_peso_equipo_carguio           0\n",
      "capacidad_en_peso_equipo_acarreo           0\n",
      "tonelaje_camion_antes_cargaestabilizada    0\n",
      "angulo_giro_promedio_pases                 0\n",
      "densidad_inicial_poligono_creado           0\n",
      "coord_x_pases                              0\n",
      "tiem_llegada                               0\n",
      "tonelaje_segun_computadora                 0\n",
      "rownum                                     0\n",
      "dtype: int64\n"
     ]
    }
   ],
   "source": [
    "# Columnas específicas en las que deseas eliminar las filas con nulos\n",
    "columnas_a_verificar = ['angulo_giro_promedio_pases', 'coord_x_pases']\n",
    "\n",
    "# Elimina las filas que contienen valores nulos en las columnas especificadas\n",
    "datos_kuntor = datos_kuntor.dropna(subset=columnas_a_verificar)\n",
    "\n",
    "# Supongamos que deseas completar los valores nulos en la columna 'nombre_columna' con el valor 0\n",
    "datos_kuntor = llenar_nulos_con_media(datos_kuntor, 'capacidad_en_volumen_equipo_carguio_m3')\n",
    "datos_kuntor = llenar_nulos_con_media(datos_kuntor, 'capacidad_en_peso_equipo_carguio')\n",
    "datos_kuntor = llenar_nulos_con_media(datos_kuntor, 'capacidad_en_peso_equipo_acarreo')\n",
    "datos_kuntor = llenar_nulos_con_media(datos_kuntor, 'tonelaje_camion_antes_cargaestabilizada')\n",
    "datos_kuntor = llenar_nulos_con_media(datos_kuntor, 'densidad_inicial_poligono_creado')\n",
    "datos_kuntor = llenar_nulos_con_media(datos_kuntor, 'tonelaje_segun_computadora')\n",
    "\n",
    "\n",
    "# Rellenar los valores nulos con ceros en todo el DataFrame\n",
    "#datos = datos.fillna(0)\n",
    "\n",
    "# Muestra la cantidad de valores nulos después de eliminar filas\n",
    "print(\"\\nValores nulos después de eliminar filas:\")\n",
    "print(datos_kuntor.isnull().sum())"
   ]
  },
  {
   "cell_type": "markdown",
   "metadata": {},
   "source": [
    "Calculo de Nuevas variables y prepocesamiento de datos"
   ]
  },
  {
   "cell_type": "code",
   "execution_count": 149,
   "metadata": {},
   "outputs": [],
   "source": [
    "# Agregamos la variable calculada \"numero_pases_carguio\" basado en la columna 'coord_x_pases'\n",
    "datos_kuntor['numero_pases_carguio'] = datos_kuntor['coord_x_pases'].apply(lambda x: len(eval(x)) if isinstance(x, str) and '[' in x else x if isinstance(x, int) else 0)\n",
    "\n",
    "# Supongamos que 'datos' es tu DataFrame y 'columnas_a_eliminar' es una lista con los nombres de las columnas a eliminar\n",
    "columnas_a_eliminar = ['coord_x_pases', 'rownum']\n",
    "\n",
    "datos_kuntor = datos_kuntor.drop(columns=columnas_a_eliminar)\n",
    "\n",
    "# Transformamos la dimension de esta variable\n",
    "datos_kuntor['tonelaje_camion_antes_cargaestabilizada'] = datos_kuntor['tonelaje_camion_antes_cargaestabilizada'] / 10\n",
    "\n",
    "datos_kuntor['tonelaje_segun_computadora'] = datos_kuntor['tonelaje_segun_computadora'] / 10\n",
    "\n",
    "#cambiamos el nombre de la variable\n",
    "datos_kuntor.rename(columns={'densidad_inicial_poligono_creado': 'densidad_inicial_poligono_creado_tn/m3'}, inplace=True)\n",
    "\n",
    "datos_kuntor.rename(columns={'tiem_llegada': 'tiempo_llegada_camion'}, inplace=True)"
   ]
  },
  {
   "cell_type": "markdown",
   "metadata": {},
   "source": [
    "Transformacion de Variables de fecha a formato DateTime"
   ]
  },
  {
   "cell_type": "code",
   "execution_count": 135,
   "metadata": {},
   "outputs": [],
   "source": [
    "# Convierte la columna 'tiempo_llegada_camion' a tipo datetime si aún no lo es\n",
    "datos_kuntor['tiempo_llegada_camion'] = pd.to_datetime(datos_kuntor['tiempo_llegada_camion'], errors='coerce')"
   ]
  },
  {
   "cell_type": "code",
   "execution_count": 137,
   "metadata": {},
   "outputs": [],
   "source": [
    "# Cambiar '0000' a '9999' en los milisegundos\n",
    "datos_kuntor['tiempo_llegada_camion'] = datos_kuntor['tiempo_llegada_camion'].dt.strftime('%Y-%m-%d %H:%M:%S.%f').str[:-4] + '9999'"
   ]
  },
  {
   "cell_type": "code",
   "execution_count": 139,
   "metadata": {},
   "outputs": [],
   "source": [
    "datos_kuntor['tiempo_llegada_camion'] = pd.to_datetime(datos_kuntor['tiempo_llegada_camion'], errors='coerce')"
   ]
  },
  {
   "cell_type": "code",
   "execution_count": 150,
   "metadata": {},
   "outputs": [
    {
     "data": {
      "text/plain": [
       "capacidad_en_volumen_equipo_carguio_m3     float64\n",
       "capacidad_en_peso_equipo_carguio           float64\n",
       "capacidad_en_peso_equipo_acarreo           float64\n",
       "tonelaje_camion_antes_cargaestabilizada    float64\n",
       "angulo_giro_promedio_pases                 float64\n",
       "densidad_inicial_poligono_creado_tn/m3     float64\n",
       "tiempo_llegada_camion                       object\n",
       "tonelaje_segun_computadora                 float64\n",
       "numero_pases_carguio                         int64\n",
       "dtype: object"
      ]
     },
     "execution_count": 150,
     "metadata": {},
     "output_type": "execute_result"
    }
   ],
   "source": [
    "datos_kuntor.dtypes"
   ]
  },
  {
   "cell_type": "code",
   "execution_count": 141,
   "metadata": {},
   "outputs": [],
   "source": [
    "#Agregemos la Zona Horaria a la fecha\n",
    "datos_kuntor['tiempo_llegada_camion'] = datos_kuntor['tiempo_llegada_camion'].dt.tz_localize('UTC').dt.tz_convert('Asia/Bishkek')"
   ]
  },
  {
   "cell_type": "code",
   "execution_count": 151,
   "metadata": {},
   "outputs": [],
   "source": [
    "# lista de columnas 'columnas_fecha' que contienen fechas\n",
    "columnas_fecha = ['tiempo_llegada_camion']  \n",
    "\n",
    "#1. Itera sobre las columnas de fechas y convierte cada una datetime\n",
    "for columna in columnas_fecha:\n",
    "    datos_kuntor[columna] = pd.to_datetime(datos_kuntor[columna], errors='coerce')  #Coerce reemplaza con Null, si la fecha no tiene el formato de la mayoria\n",
    "\n",
    "#2. Reemplazas milisengundos 00000   \n",
    "for columna in columnas_fecha:\n",
    "    # Cambiar '0000' a '9999' en los milisegundos\n",
    "    datos_kuntor[columna] = datos_kuntor[columna].dt.strftime('%Y-%m-%d %H:%M:%S.%f').str[:-4] + '9999'\n",
    "\n",
    "#3. Una vez reemplzar los 0000 milisegundos, debemos volverlos a convertir a datetime\n",
    "for columna in columnas_fecha:\n",
    "    datos_kuntor[columna] = pd.to_datetime(datos_kuntor[columna], errors='coerce')\n",
    "\n",
    "#4. Agregamos la Zona Horaria \n",
    "for columna in columnas_fecha:\n",
    "    #Agregemos la Zona Horaria a la fecha\n",
    "    datos_kuntor[columna] = datos_kuntor[columna].dt.tz_localize('UTC').dt.tz_convert('Asia/Bishkek')\n",
    "\n",
    "\n",
    "#  Iterar sobre las columnas y reemplazar NaT con la fecha de la fila anterior + 3 segundos\n",
    "# for columna in columnas_fecha:\n",
    "#     mask_nat = datos_kuntor[columna].isna()\n",
    "#     datos_kuntor[columna].loc[mask_nat] = datos_kuntor[columna].fillna(method='ffill') + pd.to_timedelta(3, unit='s')"
   ]
  },
  {
   "cell_type": "markdown",
   "metadata": {},
   "source": [
    "Verificamos si en KUNTOR si la variable \"NUMERO DE PASES\" tienen valores outliers"
   ]
  },
  {
   "cell_type": "code",
   "execution_count": 154,
   "metadata": {},
   "outputs": [
    {
     "data": {
      "text/plain": [
       "array([ 4,  3,  6,  5,  1,  8,  7,  2,  9, 13, 11, 10, 12, 14, 16, 15, 18,\n",
       "       22, 17, 19, 21, 23], dtype=int64)"
      ]
     },
     "execution_count": 154,
     "metadata": {},
     "output_type": "execute_result"
    }
   ],
   "source": [
    "datos_kuntor['numero_pases_carguio'].unique()"
   ]
  },
  {
   "cell_type": "markdown",
   "metadata": {},
   "source": [
    "### 3. Leemos los datos utilizados en el modelo original(OP.MARCOBRE)"
   ]
  },
  {
   "cell_type": "code",
   "execution_count": 155,
   "metadata": {},
   "outputs": [
    {
     "name": "stderr",
     "output_type": "stream",
     "text": [
      "C:\\Users\\BryanInche-MS4M\\AppData\\Local\\Temp\\ipykernel_2868\\2440694692.py:2: FutureWarning: The argument 'date_parser' is deprecated and will be removed in a future version. Please use 'date_format' instead, or read your data in as 'object' dtype and then call 'to_datetime'.\n",
      "  datos_marcobre = pd.read_csv('datos_opmarcobre.csv', parse_dates=['tiempo_llegada_camion'], date_parser=lambda x: pd.to_datetime(x, format='%Y-%m-%d %H:%M:%S.%f%z'))\n"
     ]
    },
    {
     "data": {
      "text/html": [
       "<div>\n",
       "<style scoped>\n",
       "    .dataframe tbody tr th:only-of-type {\n",
       "        vertical-align: middle;\n",
       "    }\n",
       "\n",
       "    .dataframe tbody tr th {\n",
       "        vertical-align: top;\n",
       "    }\n",
       "\n",
       "    .dataframe thead th {\n",
       "        text-align: right;\n",
       "    }\n",
       "</style>\n",
       "<table border=\"1\" class=\"dataframe\">\n",
       "  <thead>\n",
       "    <tr style=\"text-align: right;\">\n",
       "      <th></th>\n",
       "      <th>capacidad_en_volumen_equipo_carguio_m3</th>\n",
       "      <th>capacidad_en_peso_equipo_carguio</th>\n",
       "      <th>capacidad_en_peso_equipo_acarreo</th>\n",
       "      <th>tonelaje_camion_antes_cargaestabilizada</th>\n",
       "      <th>angulo_giro_promedio_pases</th>\n",
       "      <th>densidad_inicial_poligono_creado_tn/m3</th>\n",
       "      <th>tiempo_llegada_camion</th>\n",
       "      <th>tonelaje_segun_computadora</th>\n",
       "      <th>numero_pases_carguio</th>\n",
       "    </tr>\n",
       "  </thead>\n",
       "  <tbody>\n",
       "    <tr>\n",
       "      <th>0</th>\n",
       "      <td>23.000000</td>\n",
       "      <td>39.158333</td>\n",
       "      <td>229.000000</td>\n",
       "      <td>225.800000</td>\n",
       "      <td>0.000000</td>\n",
       "      <td>1.916910</td>\n",
       "      <td>2022-01-01 07:01:58.086000-05:00</td>\n",
       "      <td>235.800000</td>\n",
       "      <td>4</td>\n",
       "    </tr>\n",
       "    <tr>\n",
       "      <th>1</th>\n",
       "      <td>23.000000</td>\n",
       "      <td>39.158333</td>\n",
       "      <td>229.000000</td>\n",
       "      <td>243.500000</td>\n",
       "      <td>20.000000</td>\n",
       "      <td>2.200000</td>\n",
       "      <td>2022-01-01 07:04:06.421000-05:00</td>\n",
       "      <td>234.500000</td>\n",
       "      <td>7</td>\n",
       "    </tr>\n",
       "    <tr>\n",
       "      <th>2</th>\n",
       "      <td>23.000000</td>\n",
       "      <td>39.158333</td>\n",
       "      <td>229.000000</td>\n",
       "      <td>232.900000</td>\n",
       "      <td>0.000000</td>\n",
       "      <td>1.916910</td>\n",
       "      <td>2022-01-01 07:06:43.839000-05:00</td>\n",
       "      <td>235.400000</td>\n",
       "      <td>4</td>\n",
       "    </tr>\n",
       "    <tr>\n",
       "      <th>3</th>\n",
       "      <td>23.000000</td>\n",
       "      <td>39.158333</td>\n",
       "      <td>229.000000</td>\n",
       "      <td>234.900000</td>\n",
       "      <td>43.000000</td>\n",
       "      <td>2.200000</td>\n",
       "      <td>2022-01-01 07:12:42.484000-05:00</td>\n",
       "      <td>234.900000</td>\n",
       "      <td>7</td>\n",
       "    </tr>\n",
       "    <tr>\n",
       "      <th>4</th>\n",
       "      <td>23.000000</td>\n",
       "      <td>39.158333</td>\n",
       "      <td>229.000000</td>\n",
       "      <td>238.400000</td>\n",
       "      <td>0.000000</td>\n",
       "      <td>1.916910</td>\n",
       "      <td>2022-01-01 07:15:32.741000-05:00</td>\n",
       "      <td>247.700000</td>\n",
       "      <td>4</td>\n",
       "    </tr>\n",
       "  </tbody>\n",
       "</table>\n",
       "</div>"
      ],
      "text/plain": [
       "   capacidad_en_volumen_equipo_carguio_m3  capacidad_en_peso_equipo_carguio  capacidad_en_peso_equipo_acarreo  tonelaje_camion_antes_cargaestabilizada  angulo_giro_promedio_pases  densidad_inicial_poligono_creado_tn/m3            tiempo_llegada_camion  tonelaje_segun_computadora  numero_pases_carguio\n",
       "0                               23.000000                         39.158333                        229.000000                               225.800000                    0.000000                                1.916910 2022-01-01 07:01:58.086000-05:00                  235.800000                     4\n",
       "1                               23.000000                         39.158333                        229.000000                               243.500000                   20.000000                                2.200000 2022-01-01 07:04:06.421000-05:00                  234.500000                     7\n",
       "2                               23.000000                         39.158333                        229.000000                               232.900000                    0.000000                                1.916910 2022-01-01 07:06:43.839000-05:00                  235.400000                     4\n",
       "3                               23.000000                         39.158333                        229.000000                               234.900000                   43.000000                                2.200000 2022-01-01 07:12:42.484000-05:00                  234.900000                     7\n",
       "4                               23.000000                         39.158333                        229.000000                               238.400000                    0.000000                                1.916910 2022-01-01 07:15:32.741000-05:00                  247.700000                     4"
      ]
     },
     "execution_count": 155,
     "metadata": {},
     "output_type": "execute_result"
    }
   ],
   "source": [
    "#Cargar los datos en formato Datetime (variables de tiempo)\n",
    "datos_marcobre = pd.read_csv('datos_opmarcobre.csv', parse_dates=['tiempo_llegada_camion'], date_parser=lambda x: pd.to_datetime(x, format='%Y-%m-%d %H:%M:%S.%f%z'))\n",
    "datos_marcobre.head()"
   ]
  },
  {
   "cell_type": "code",
   "execution_count": 156,
   "metadata": {},
   "outputs": [
    {
     "data": {
      "text/plain": [
       "capacidad_en_volumen_equipo_carguio_m3                       float64\n",
       "capacidad_en_peso_equipo_carguio                             float64\n",
       "capacidad_en_peso_equipo_acarreo                             float64\n",
       "tonelaje_camion_antes_cargaestabilizada                      float64\n",
       "angulo_giro_promedio_pases                                   float64\n",
       "densidad_inicial_poligono_creado_tn/m3                       float64\n",
       "tiempo_llegada_camion                      datetime64[ns, UTC-05:00]\n",
       "tonelaje_segun_computadora                                   float64\n",
       "numero_pases_carguio                                           int64\n",
       "dtype: object"
      ]
     },
     "execution_count": 156,
     "metadata": {},
     "output_type": "execute_result"
    }
   ],
   "source": [
    "datos_marcobre.dtypes"
   ]
  },
  {
   "cell_type": "markdown",
   "metadata": {},
   "source": [
    "Verificamos si en MARCOBRE si la variable \"NUMERO DE PASES\" tienen valores outliers "
   ]
  },
  {
   "cell_type": "code",
   "execution_count": 157,
   "metadata": {},
   "outputs": [
    {
     "data": {
      "text/plain": [
       "array([4, 7, 5, 6, 8], dtype=int64)"
      ]
     },
     "execution_count": 157,
     "metadata": {},
     "output_type": "execute_result"
    }
   ],
   "source": [
    "datos_marcobre['numero_pases_carguio'].unique()"
   ]
  },
  {
   "cell_type": "markdown",
   "metadata": {},
   "source": [
    "### 4. Tratamiento de Valores Outliers (Asignamos los limites de Marcobre a Kuntor, para tener una generalizacion de los datos)"
   ]
  },
  {
   "cell_type": "code",
   "execution_count": 158,
   "metadata": {},
   "outputs": [],
   "source": [
    "# Calcular Q1 y Q3 de la columna en el primer DataFrame\n",
    "Q1_primer_df = datos_marcobre['numero_pases_carguio'].quantile(0.25)\n",
    "Q3_primer_df = datos_marcobre['numero_pases_carguio'].quantile(0.75)\n",
    "\n",
    "# Calcular el rango intercuartilico (IQR) en el primer DataFrame\n",
    "IQR_primer_df = Q3_primer_df - Q1_primer_df\n",
    "\n",
    "# Calcular los límites inferior y superior del bigote en el primer DataFrame\n",
    "limite_inferior_primer_df = round(Q1_primer_df - 1.5 * IQR_primer_df)\n",
    "limite_superior_primer_df = round(Q3_primer_df + 1.5 * IQR_primer_df)\n",
    "\n",
    "# Limitar los valores atípicos en el segundo DataFrame a los límites del primer DataFrame\n",
    "datos_kuntor['numero_pases_carguio'] = datos_kuntor['numero_pases_carguio'].clip(lower=limite_inferior_primer_df, upper=limite_superior_primer_df)"
   ]
  },
  {
   "cell_type": "code",
   "execution_count": 159,
   "metadata": {},
   "outputs": [
    {
     "data": {
      "text/plain": [
       "array([4, 6, 5, 8, 7], dtype=int64)"
      ]
     },
     "execution_count": 159,
     "metadata": {},
     "output_type": "execute_result"
    }
   ],
   "source": [
    "datos_kuntor['numero_pases_carguio'].unique()"
   ]
  },
  {
   "cell_type": "code",
   "execution_count": 160,
   "metadata": {},
   "outputs": [
    {
     "data": {
      "text/html": [
       "<div>\n",
       "<style scoped>\n",
       "    .dataframe tbody tr th:only-of-type {\n",
       "        vertical-align: middle;\n",
       "    }\n",
       "\n",
       "    .dataframe tbody tr th {\n",
       "        vertical-align: top;\n",
       "    }\n",
       "\n",
       "    .dataframe thead th {\n",
       "        text-align: right;\n",
       "    }\n",
       "</style>\n",
       "<table border=\"1\" class=\"dataframe\">\n",
       "  <thead>\n",
       "    <tr style=\"text-align: right;\">\n",
       "      <th></th>\n",
       "      <th>capacidad_en_volumen_equipo_carguio_m3</th>\n",
       "      <th>capacidad_en_peso_equipo_carguio</th>\n",
       "      <th>capacidad_en_peso_equipo_acarreo</th>\n",
       "      <th>tonelaje_camion_antes_cargaestabilizada</th>\n",
       "      <th>angulo_giro_promedio_pases</th>\n",
       "      <th>densidad_inicial_poligono_creado_tn/m3</th>\n",
       "      <th>tiempo_llegada_camion</th>\n",
       "      <th>tonelaje_segun_computadora</th>\n",
       "      <th>numero_pases_carguio</th>\n",
       "    </tr>\n",
       "  </thead>\n",
       "  <tbody>\n",
       "    <tr>\n",
       "      <th>2</th>\n",
       "      <td>18.001554</td>\n",
       "      <td>32.102646</td>\n",
       "      <td>172.000000</td>\n",
       "      <td>196.300000</td>\n",
       "      <td>60.000000</td>\n",
       "      <td>2.777849</td>\n",
       "      <td>2023-08-30 12:18:28.349999+06:00</td>\n",
       "      <td>184.000000</td>\n",
       "      <td>4</td>\n",
       "    </tr>\n",
       "  </tbody>\n",
       "</table>\n",
       "</div>"
      ],
      "text/plain": [
       "   capacidad_en_volumen_equipo_carguio_m3  capacidad_en_peso_equipo_carguio  capacidad_en_peso_equipo_acarreo  tonelaje_camion_antes_cargaestabilizada  angulo_giro_promedio_pases  densidad_inicial_poligono_creado_tn/m3            tiempo_llegada_camion  tonelaje_segun_computadora  numero_pases_carguio\n",
       "2                               18.001554                         32.102646                        172.000000                               196.300000                   60.000000                                2.777849 2023-08-30 12:18:28.349999+06:00                  184.000000                     4"
      ]
     },
     "execution_count": 160,
     "metadata": {},
     "output_type": "execute_result"
    }
   ],
   "source": [
    "datos_kuntor.head(1)"
   ]
  },
  {
   "cell_type": "code",
   "execution_count": 161,
   "metadata": {},
   "outputs": [],
   "source": [
    "#Se guardan los datos que han sido preprocesados y calidad en los datos y cambiados nombres\n",
    "datos_kuntor.to_csv('datos_opkuntor.csv', date_format='%Y-%m-%d %H:%M:%S.%f%z', index=False)"
   ]
  },
  {
   "cell_type": "markdown",
   "metadata": {},
   "source": [
    "### Cargamos los datos de KUNTOR"
   ]
  },
  {
   "cell_type": "code",
   "execution_count": 162,
   "metadata": {},
   "outputs": [
    {
     "name": "stderr",
     "output_type": "stream",
     "text": [
      "C:\\Users\\BryanInche-MS4M\\AppData\\Local\\Temp\\ipykernel_2868\\3642732282.py:2: FutureWarning: The argument 'date_parser' is deprecated and will be removed in a future version. Please use 'date_format' instead, or read your data in as 'object' dtype and then call 'to_datetime'.\n",
      "  datos_kuntor = pd.read_csv('datos_opkuntor.csv', parse_dates=['tiempo_llegada_camion'], date_parser=lambda x: pd.to_datetime(x, format='%Y-%m-%d %H:%M:%S.%f%z'))\n"
     ]
    },
    {
     "data": {
      "text/html": [
       "<div>\n",
       "<style scoped>\n",
       "    .dataframe tbody tr th:only-of-type {\n",
       "        vertical-align: middle;\n",
       "    }\n",
       "\n",
       "    .dataframe tbody tr th {\n",
       "        vertical-align: top;\n",
       "    }\n",
       "\n",
       "    .dataframe thead th {\n",
       "        text-align: right;\n",
       "    }\n",
       "</style>\n",
       "<table border=\"1\" class=\"dataframe\">\n",
       "  <thead>\n",
       "    <tr style=\"text-align: right;\">\n",
       "      <th></th>\n",
       "      <th>capacidad_en_volumen_equipo_carguio_m3</th>\n",
       "      <th>capacidad_en_peso_equipo_carguio</th>\n",
       "      <th>capacidad_en_peso_equipo_acarreo</th>\n",
       "      <th>tonelaje_camion_antes_cargaestabilizada</th>\n",
       "      <th>angulo_giro_promedio_pases</th>\n",
       "      <th>densidad_inicial_poligono_creado_tn/m3</th>\n",
       "      <th>tiempo_llegada_camion</th>\n",
       "      <th>tonelaje_segun_computadora</th>\n",
       "      <th>numero_pases_carguio</th>\n",
       "    </tr>\n",
       "  </thead>\n",
       "  <tbody>\n",
       "    <tr>\n",
       "      <th>0</th>\n",
       "      <td>18.001554</td>\n",
       "      <td>32.102646</td>\n",
       "      <td>172.000000</td>\n",
       "      <td>196.300000</td>\n",
       "      <td>60.000000</td>\n",
       "      <td>2.777849</td>\n",
       "      <td>2023-08-30 12:18:28.349999+06:00</td>\n",
       "      <td>184.000000</td>\n",
       "      <td>4</td>\n",
       "    </tr>\n",
       "    <tr>\n",
       "      <th>1</th>\n",
       "      <td>18.001554</td>\n",
       "      <td>32.102646</td>\n",
       "      <td>172.000000</td>\n",
       "      <td>174.400000</td>\n",
       "      <td>54.000000</td>\n",
       "      <td>2.777849</td>\n",
       "      <td>2023-08-30 12:16:52.069999+06:00</td>\n",
       "      <td>176.400000</td>\n",
       "      <td>4</td>\n",
       "    </tr>\n",
       "    <tr>\n",
       "      <th>2</th>\n",
       "      <td>18.001554</td>\n",
       "      <td>32.102646</td>\n",
       "      <td>178.000000</td>\n",
       "      <td>179.400000</td>\n",
       "      <td>81.000000</td>\n",
       "      <td>2.777849</td>\n",
       "      <td>2023-08-30 12:16:41.379999+06:00</td>\n",
       "      <td>178.400000</td>\n",
       "      <td>4</td>\n",
       "    </tr>\n",
       "    <tr>\n",
       "      <th>3</th>\n",
       "      <td>18.001554</td>\n",
       "      <td>32.102646</td>\n",
       "      <td>130.000000</td>\n",
       "      <td>135.900000</td>\n",
       "      <td>48.000000</td>\n",
       "      <td>2.777849</td>\n",
       "      <td>2023-08-30 12:14:34.509999+06:00</td>\n",
       "      <td>125.500000</td>\n",
       "      <td>4</td>\n",
       "    </tr>\n",
       "    <tr>\n",
       "      <th>4</th>\n",
       "      <td>18.001554</td>\n",
       "      <td>32.102646</td>\n",
       "      <td>172.000000</td>\n",
       "      <td>168.000000</td>\n",
       "      <td>20.000000</td>\n",
       "      <td>2.777849</td>\n",
       "      <td>2023-08-30 12:14:01.699999+06:00</td>\n",
       "      <td>172.500000</td>\n",
       "      <td>6</td>\n",
       "    </tr>\n",
       "  </tbody>\n",
       "</table>\n",
       "</div>"
      ],
      "text/plain": [
       "   capacidad_en_volumen_equipo_carguio_m3  capacidad_en_peso_equipo_carguio  capacidad_en_peso_equipo_acarreo  tonelaje_camion_antes_cargaestabilizada  angulo_giro_promedio_pases  densidad_inicial_poligono_creado_tn/m3            tiempo_llegada_camion  tonelaje_segun_computadora  numero_pases_carguio\n",
       "0                               18.001554                         32.102646                        172.000000                               196.300000                   60.000000                                2.777849 2023-08-30 12:18:28.349999+06:00                  184.000000                     4\n",
       "1                               18.001554                         32.102646                        172.000000                               174.400000                   54.000000                                2.777849 2023-08-30 12:16:52.069999+06:00                  176.400000                     4\n",
       "2                               18.001554                         32.102646                        178.000000                               179.400000                   81.000000                                2.777849 2023-08-30 12:16:41.379999+06:00                  178.400000                     4\n",
       "3                               18.001554                         32.102646                        130.000000                               135.900000                   48.000000                                2.777849 2023-08-30 12:14:34.509999+06:00                  125.500000                     4\n",
       "4                               18.001554                         32.102646                        172.000000                               168.000000                   20.000000                                2.777849 2023-08-30 12:14:01.699999+06:00                  172.500000                     6"
      ]
     },
     "execution_count": 162,
     "metadata": {},
     "output_type": "execute_result"
    }
   ],
   "source": [
    "#Cargar los datos en formato Datetime (variables de tiempo)\n",
    "datos_kuntor = pd.read_csv('datos_opkuntor.csv', parse_dates=['tiempo_llegada_camion'], date_parser=lambda x: pd.to_datetime(x, format='%Y-%m-%d %H:%M:%S.%f%z'))\n",
    "datos_kuntor.head()"
   ]
  },
  {
   "cell_type": "markdown",
   "metadata": {},
   "source": [
    "Verificamos si Ambas operaciones (Marcobre y Kuntor) no tienen Outliers"
   ]
  },
  {
   "cell_type": "code",
   "execution_count": 163,
   "metadata": {},
   "outputs": [
    {
     "name": "stdout",
     "output_type": "stream",
     "text": [
      "marcobre [4 7 5 6 8] kuntor [4 6 5 8 7]\n"
     ]
    }
   ],
   "source": [
    "print(f'marcobre',datos_marcobre['numero_pases_carguio'].unique() ,  'kuntor' ,datos_kuntor['numero_pases_carguio'].unique())"
   ]
  },
  {
   "cell_type": "code",
   "execution_count": 164,
   "metadata": {},
   "outputs": [
    {
     "data": {
      "text/html": [
       "<div>\n",
       "<style scoped>\n",
       "    .dataframe tbody tr th:only-of-type {\n",
       "        vertical-align: middle;\n",
       "    }\n",
       "\n",
       "    .dataframe tbody tr th {\n",
       "        vertical-align: top;\n",
       "    }\n",
       "\n",
       "    .dataframe thead th {\n",
       "        text-align: right;\n",
       "    }\n",
       "</style>\n",
       "<table border=\"1\" class=\"dataframe\">\n",
       "  <thead>\n",
       "    <tr style=\"text-align: right;\">\n",
       "      <th></th>\n",
       "      <th>capacidad_en_volumen_equipo_carguio_m3</th>\n",
       "      <th>capacidad_en_peso_equipo_carguio</th>\n",
       "      <th>capacidad_en_peso_equipo_acarreo</th>\n",
       "      <th>tonelaje_camion_antes_cargaestabilizada</th>\n",
       "      <th>angulo_giro_promedio_pases</th>\n",
       "      <th>densidad_inicial_poligono_creado_tn/m3</th>\n",
       "      <th>tiempo_llegada_camion</th>\n",
       "      <th>tonelaje_segun_computadora</th>\n",
       "      <th>numero_pases_carguio</th>\n",
       "    </tr>\n",
       "  </thead>\n",
       "  <tbody>\n",
       "    <tr>\n",
       "      <th>0</th>\n",
       "      <td>18.001554</td>\n",
       "      <td>32.102646</td>\n",
       "      <td>172.000000</td>\n",
       "      <td>196.300000</td>\n",
       "      <td>60.000000</td>\n",
       "      <td>2.777849</td>\n",
       "      <td>2023-08-30 12:18:28.349999+06:00</td>\n",
       "      <td>184.000000</td>\n",
       "      <td>4</td>\n",
       "    </tr>\n",
       "  </tbody>\n",
       "</table>\n",
       "</div>"
      ],
      "text/plain": [
       "   capacidad_en_volumen_equipo_carguio_m3  capacidad_en_peso_equipo_carguio  capacidad_en_peso_equipo_acarreo  tonelaje_camion_antes_cargaestabilizada  angulo_giro_promedio_pases  densidad_inicial_poligono_creado_tn/m3            tiempo_llegada_camion  tonelaje_segun_computadora  numero_pases_carguio\n",
       "0                               18.001554                         32.102646                        172.000000                               196.300000                   60.000000                                2.777849 2023-08-30 12:18:28.349999+06:00                  184.000000                     4"
      ]
     },
     "execution_count": 164,
     "metadata": {},
     "output_type": "execute_result"
    }
   ],
   "source": [
    "datos_kuntor.head(1)"
   ]
  },
  {
   "cell_type": "code",
   "execution_count": 165,
   "metadata": {},
   "outputs": [
    {
     "data": {
      "text/html": [
       "<div>\n",
       "<style scoped>\n",
       "    .dataframe tbody tr th:only-of-type {\n",
       "        vertical-align: middle;\n",
       "    }\n",
       "\n",
       "    .dataframe tbody tr th {\n",
       "        vertical-align: top;\n",
       "    }\n",
       "\n",
       "    .dataframe thead th {\n",
       "        text-align: right;\n",
       "    }\n",
       "</style>\n",
       "<table border=\"1\" class=\"dataframe\">\n",
       "  <thead>\n",
       "    <tr style=\"text-align: right;\">\n",
       "      <th></th>\n",
       "      <th>capacidad_en_volumen_equipo_carguio_m3</th>\n",
       "      <th>capacidad_en_peso_equipo_carguio</th>\n",
       "      <th>capacidad_en_peso_equipo_acarreo</th>\n",
       "      <th>tonelaje_camion_antes_cargaestabilizada</th>\n",
       "      <th>angulo_giro_promedio_pases</th>\n",
       "      <th>densidad_inicial_poligono_creado_tn/m3</th>\n",
       "      <th>tiempo_llegada_camion</th>\n",
       "      <th>tonelaje_segun_computadora</th>\n",
       "      <th>numero_pases_carguio</th>\n",
       "    </tr>\n",
       "  </thead>\n",
       "  <tbody>\n",
       "    <tr>\n",
       "      <th>0</th>\n",
       "      <td>23.000000</td>\n",
       "      <td>39.158333</td>\n",
       "      <td>229.000000</td>\n",
       "      <td>225.800000</td>\n",
       "      <td>0.000000</td>\n",
       "      <td>1.916910</td>\n",
       "      <td>2022-01-01 07:01:58.086000-05:00</td>\n",
       "      <td>235.800000</td>\n",
       "      <td>4</td>\n",
       "    </tr>\n",
       "  </tbody>\n",
       "</table>\n",
       "</div>"
      ],
      "text/plain": [
       "   capacidad_en_volumen_equipo_carguio_m3  capacidad_en_peso_equipo_carguio  capacidad_en_peso_equipo_acarreo  tonelaje_camion_antes_cargaestabilizada  angulo_giro_promedio_pases  densidad_inicial_poligono_creado_tn/m3            tiempo_llegada_camion  tonelaje_segun_computadora  numero_pases_carguio\n",
       "0                               23.000000                         39.158333                        229.000000                               225.800000                    0.000000                                1.916910 2022-01-01 07:01:58.086000-05:00                  235.800000                     4"
      ]
     },
     "execution_count": 165,
     "metadata": {},
     "output_type": "execute_result"
    }
   ],
   "source": [
    "datos_marcobre.head(1)"
   ]
  },
  {
   "cell_type": "code",
   "execution_count": 166,
   "metadata": {},
   "outputs": [
    {
     "data": {
      "text/plain": [
       "((743993, 9), (380660, 9))"
      ]
     },
     "execution_count": 166,
     "metadata": {},
     "output_type": "execute_result"
    }
   ],
   "source": [
    "datos_marcobre.shape, datos_kuntor.shape"
   ]
  },
  {
   "cell_type": "markdown",
   "metadata": {},
   "source": [
    "### 5. Guardamos los datos de MARCOBRE + KUNTOR"
   ]
  },
  {
   "cell_type": "code",
   "execution_count": 167,
   "metadata": {},
   "outputs": [],
   "source": [
    "# Concatenar los nuevos datos con los datos originales\n",
    "datos_combinados = pd.concat([datos_marcobre, datos_kuntor], axis=0)  # axis=0, unir por filas\n",
    "\n",
    "# Guardamos el df en un archivo csv\n",
    "datos_combinados.to_csv('datos_marcobre_mas_kuntor.csv', date_format='%Y-%m-%d %H:%M:%S.%f%z', index=False)"
   ]
  },
  {
   "cell_type": "markdown",
   "metadata": {},
   "source": [
    "### 6. Cargamos los datos consolidados (Marcobre + Kuntor) (Con el formato adecuado de DateTime)"
   ]
  },
  {
   "cell_type": "code",
   "execution_count": 168,
   "metadata": {},
   "outputs": [
    {
     "name": "stderr",
     "output_type": "stream",
     "text": [
      "C:\\Users\\BryanInche-MS4M\\AppData\\Local\\Temp\\ipykernel_2868\\3977618124.py:1: FutureWarning: The argument 'date_parser' is deprecated and will be removed in a future version. Please use 'date_format' instead, or read your data in as 'object' dtype and then call 'to_datetime'.\n",
      "  datos = pd.read_csv('datos_marcobre_mas_kuntor.csv', parse_dates=['tiempo_llegada_camion'], date_parser=lambda x: pd.to_datetime(x, format='%Y-%m-%d %H:%M:%S.%f%z'))\n"
     ]
    },
    {
     "data": {
      "text/html": [
       "<div>\n",
       "<style scoped>\n",
       "    .dataframe tbody tr th:only-of-type {\n",
       "        vertical-align: middle;\n",
       "    }\n",
       "\n",
       "    .dataframe tbody tr th {\n",
       "        vertical-align: top;\n",
       "    }\n",
       "\n",
       "    .dataframe thead th {\n",
       "        text-align: right;\n",
       "    }\n",
       "</style>\n",
       "<table border=\"1\" class=\"dataframe\">\n",
       "  <thead>\n",
       "    <tr style=\"text-align: right;\">\n",
       "      <th></th>\n",
       "      <th>capacidad_en_volumen_equipo_carguio_m3</th>\n",
       "      <th>capacidad_en_peso_equipo_carguio</th>\n",
       "      <th>capacidad_en_peso_equipo_acarreo</th>\n",
       "      <th>tonelaje_camion_antes_cargaestabilizada</th>\n",
       "      <th>angulo_giro_promedio_pases</th>\n",
       "      <th>densidad_inicial_poligono_creado_tn/m3</th>\n",
       "      <th>tiempo_llegada_camion</th>\n",
       "      <th>tonelaje_segun_computadora</th>\n",
       "      <th>numero_pases_carguio</th>\n",
       "    </tr>\n",
       "  </thead>\n",
       "  <tbody>\n",
       "    <tr>\n",
       "      <th>0</th>\n",
       "      <td>23.000000</td>\n",
       "      <td>39.158333</td>\n",
       "      <td>229.000000</td>\n",
       "      <td>225.800000</td>\n",
       "      <td>0.000000</td>\n",
       "      <td>1.916910</td>\n",
       "      <td>2022-01-01 07:01:58.086000-05:00</td>\n",
       "      <td>235.800000</td>\n",
       "      <td>4</td>\n",
       "    </tr>\n",
       "    <tr>\n",
       "      <th>1</th>\n",
       "      <td>23.000000</td>\n",
       "      <td>39.158333</td>\n",
       "      <td>229.000000</td>\n",
       "      <td>243.500000</td>\n",
       "      <td>20.000000</td>\n",
       "      <td>2.200000</td>\n",
       "      <td>2022-01-01 07:04:06.421000-05:00</td>\n",
       "      <td>234.500000</td>\n",
       "      <td>7</td>\n",
       "    </tr>\n",
       "    <tr>\n",
       "      <th>2</th>\n",
       "      <td>23.000000</td>\n",
       "      <td>39.158333</td>\n",
       "      <td>229.000000</td>\n",
       "      <td>232.900000</td>\n",
       "      <td>0.000000</td>\n",
       "      <td>1.916910</td>\n",
       "      <td>2022-01-01 07:06:43.839000-05:00</td>\n",
       "      <td>235.400000</td>\n",
       "      <td>4</td>\n",
       "    </tr>\n",
       "    <tr>\n",
       "      <th>3</th>\n",
       "      <td>23.000000</td>\n",
       "      <td>39.158333</td>\n",
       "      <td>229.000000</td>\n",
       "      <td>234.900000</td>\n",
       "      <td>43.000000</td>\n",
       "      <td>2.200000</td>\n",
       "      <td>2022-01-01 07:12:42.484000-05:00</td>\n",
       "      <td>234.900000</td>\n",
       "      <td>7</td>\n",
       "    </tr>\n",
       "    <tr>\n",
       "      <th>4</th>\n",
       "      <td>23.000000</td>\n",
       "      <td>39.158333</td>\n",
       "      <td>229.000000</td>\n",
       "      <td>238.400000</td>\n",
       "      <td>0.000000</td>\n",
       "      <td>1.916910</td>\n",
       "      <td>2022-01-01 07:15:32.741000-05:00</td>\n",
       "      <td>247.700000</td>\n",
       "      <td>4</td>\n",
       "    </tr>\n",
       "  </tbody>\n",
       "</table>\n",
       "</div>"
      ],
      "text/plain": [
       "   capacidad_en_volumen_equipo_carguio_m3  capacidad_en_peso_equipo_carguio  capacidad_en_peso_equipo_acarreo  tonelaje_camion_antes_cargaestabilizada  angulo_giro_promedio_pases  densidad_inicial_poligono_creado_tn/m3             tiempo_llegada_camion  tonelaje_segun_computadora  numero_pases_carguio\n",
       "0                               23.000000                         39.158333                        229.000000                               225.800000                    0.000000                                1.916910  2022-01-01 07:01:58.086000-05:00                  235.800000                     4\n",
       "1                               23.000000                         39.158333                        229.000000                               243.500000                   20.000000                                2.200000  2022-01-01 07:04:06.421000-05:00                  234.500000                     7\n",
       "2                               23.000000                         39.158333                        229.000000                               232.900000                    0.000000                                1.916910  2022-01-01 07:06:43.839000-05:00                  235.400000                     4\n",
       "3                               23.000000                         39.158333                        229.000000                               234.900000                   43.000000                                2.200000  2022-01-01 07:12:42.484000-05:00                  234.900000                     7\n",
       "4                               23.000000                         39.158333                        229.000000                               238.400000                    0.000000                                1.916910  2022-01-01 07:15:32.741000-05:00                  247.700000                     4"
      ]
     },
     "execution_count": 168,
     "metadata": {},
     "output_type": "execute_result"
    }
   ],
   "source": [
    "datos = pd.read_csv('datos_marcobre_mas_kuntor.csv', parse_dates=['tiempo_llegada_camion'], date_parser=lambda x: pd.to_datetime(x, format='%Y-%m-%d %H:%M:%S.%f%z'))\n",
    "datos.head()"
   ]
  },
  {
   "cell_type": "code",
   "execution_count": 169,
   "metadata": {},
   "outputs": [
    {
     "data": {
      "text/plain": [
       "(1124653, 9)"
      ]
     },
     "execution_count": 169,
     "metadata": {},
     "output_type": "execute_result"
    }
   ],
   "source": [
    "datos.shape"
   ]
  },
  {
   "cell_type": "markdown",
   "metadata": {},
   "source": [
    "Identificacion de Valores Duplicados"
   ]
  },
  {
   "cell_type": "code",
   "execution_count": 173,
   "metadata": {},
   "outputs": [
    {
     "data": {
      "image/png": "[encoded data removed]",
      "text/plain": [
       "<Figure size 640x480 with 1 Axes>"
      ]
     },
     "metadata": {},
     "output_type": "display_data"
    }
   ],
   "source": [
    "import pandas as pd\n",
    "import matplotlib.pyplot as plt\n",
    "\n",
    "# Supongamos que tienes un DataFrame llamado 'datos'\n",
    "# Utiliza la función `duplicated` para marcar filas duplicadas\n",
    "duplicados = datos[datos.duplicated(keep=False)]\n",
    "\n",
    "# Luego, utiliza `groupby` para contar cuántas veces se repite cada fila duplicada\n",
    "conteo_duplicados = duplicados.groupby(list(datos.columns)).size().reset_index(name='Cantidad')\n",
    "\n",
    "# Filtra las filas que se repiten al menos 2 veces\n",
    "conteo_duplicados = conteo_duplicados[conteo_duplicados['Cantidad'] >= 2]\n",
    "\n",
    "# Calcular el porcentaje de valores repetidos\n",
    "cantidad_filas_duplicadas = len(conteo_duplicados)\n",
    "total_filas = len(datos)\n",
    "porcentaje_repetidos = (cantidad_filas_duplicadas / total_filas) * 100\n",
    "\n",
    "# Crear un gráfico de pastel\n",
    "labels = ['Valores Únicos', 'Valores Repetidos']\n",
    "sizes = [100 - porcentaje_repetidos, porcentaje_repetidos]\n",
    "colors = ['lightcoral', 'lightblue']\n",
    "explode = (0, 0.1)  # Destacar la porción de valores repetidos\n",
    "\n",
    "plt.pie(sizes, explode=explode, labels=labels, colors=colors, autopct='%1.1f%%', shadow=True, startangle=140)\n",
    "plt.axis('equal')  # Asegurar que el gráfico sea un círculo\n",
    "\n",
    "plt.title('Porcentaje de Valores Repetidos en los Datos')\n",
    "\n",
    "plt.show()"
   ]
  },
  {
   "cell_type": "markdown",
   "metadata": {},
   "source": [
    "Tratamiento de Valores Duplicados"
   ]
  },
  {
   "cell_type": "code",
   "execution_count": 171,
   "metadata": {},
   "outputs": [],
   "source": [
    "datos = datos.drop_duplicates()"
   ]
  },
  {
   "cell_type": "markdown",
   "metadata": {},
   "source": [
    "#### Reentrenar el Modelo XGB"
   ]
  },
  {
   "cell_type": "code",
   "execution_count": null,
   "metadata": {},
   "outputs": [],
   "source": [
    "import numpy as np\n",
    "import pandas as pd\n",
    "from sklearn.model_selection import train_test_split\n",
    "import xgboost as xgb\n",
    "import matplotlib.pyplot as plt\n",
    "from sklearn.preprocessing import StandardScaler\n",
    "from sklearn import metrics\n",
    "import joblib\n",
    "\n",
    "# Supongamos que tienes un DataFrame llamado df con tus datos, y la columna objetivo es 'target'\n",
    "# Asegúrate de tener las características adecuadas para entrenar el modelo\n",
    "\n",
    "# ... (resto del código para la preparación de datos)\n",
    "\n",
    "# Cargar el modelo existente\n",
    "modelo_xgb = joblib.load('xgb.pkl')\n",
    "\n",
    "# Supongamos que X_nuevos son los nuevos features y y_nuevos son las nuevas etiquetas\n",
    "dmatrix_nuevos = xgb.DMatrix(X_nuevos, label=y_nuevos)\n",
    "\n",
    "# Reentrenar el modelo existente con los nuevos datos\n",
    "modelo_xgb_nuevo = xgb.train(parametros, dmatrix_nuevos, num_boost_round=num_round)\n",
    "\n",
    "# Guardar el modelo actualizado\n",
    "joblib.dump(modelo_xgb_nuevo, 'xgb_actualizado.pkl')"
   ]
  },
  {
   "cell_type": "markdown",
   "metadata": {},
   "source": [
    "Variables general, con las Productividades, para que podamos medir el impacto del modelo"
   ]
  },
  {
   "cell_type": "code",
   "execution_count": null,
   "metadata": {},
   "outputs": [],
   "source": [
    "# Supongamos que datos es tu DataFrame y has seleccionado tus características (X) y variable objetivo (y)\n",
    "X_gen = datos[['tonelaje_inicial_poligono_creado',\n",
    "'radiohexagonocuchara_equipocarguio',\n",
    "'capacidad_en_volumen_equipo_carguio_m3',\n",
    "'capacidad_en_peso_equipo_carguio',\n",
    "'capacidad_en_peso_equipo_acarreo',\n",
    "'tiempo_estimado_duracion_estado_pala',\n",
    "'radio_locacion_metros',\n",
    "'tiempo_ready_llegada_esperando',\n",
    "'tiempo_ready_esperando_cuadra',\n",
    "'tonelaje_camion_antes_cargaestabilizada',\n",
    "'angulo_giro_promedio_pases', \n",
    "'tonelaje_segun_computadora',\n",
    "'id_equipo_camion',\n",
    "'id_equipo_carguio',\n",
    "'densidad_inicial_poligono_creado_tn/m3', \n",
    "'productividad_operativa_acarreo_tn_h',\n",
    "'tiempo_llegada_camion',\n",
    "'tiempo_ready_cuadra_cuadrado',\n",
    "'tiempo_ready_cuadrado_cargado',\n",
    "'tiempo_ready_carga_acarreo',\n",
    "'tiempo_ready_acarreo_cola',\n",
    "'tiempo_ready_cola_retro',\n",
    "'tiempo_ready_retro_listo',\n",
    "'tiempo_ready_listo_descarga',\n",
    "'tiempo_ready_descarga_viajandovacio',\n",
    "'tiempo_ready_cargando_pala',\n",
    "'tiempo_ready_esperando_pala',\n",
    "'productividad_operativa_carguio_tn_h']]  # Reemplaza 'feature1', 'feature2', 'feature3' con tus nombres de características\n",
    "y_gen = datos['numero_pases_carguio'] # Reemplaza 'variable_objetivo' con el nombre de tu variable objetivo"
   ]
  },
  {
   "cell_type": "code",
   "execution_count": null,
   "metadata": {},
   "outputs": [],
   "source": [
    "# Dividir el conjunto de datos en entrenamiento y prueba\n",
    "X_train_gen, X_test_gen, y_train_gen, y_test_gen = train_test_split(X_gen, y_gen, test_size=0.2, random_state=42)"
   ]
  },
  {
   "cell_type": "code",
   "execution_count": null,
   "metadata": {},
   "outputs": [],
   "source": [
    "# Guardamos el df en un archivo csv\n",
    "# df_concatenado.to_csv('datos_opmarcobre.csv', index=False)"
   ]
  },
  {
   "cell_type": "markdown",
   "metadata": {},
   "source": [
    "### 3. Modelos de ML y DL sin Valores atipicos"
   ]
  },
  {
   "cell_type": "markdown",
   "metadata": {},
   "source": [
    "Hacemos la division entre las variables que seran independientes, y la variable target(dependiente) para los Modelos"
   ]
  },
  {
   "cell_type": "code",
   "execution_count": null,
   "metadata": {},
   "outputs": [],
   "source": [
    "# Supongamos que datos es tu DataFrame y has seleccionado tus características (X) y variable objetivo (y)\n",
    "X = datos[[#'tonelaje_inicial_poligono_creado',\n",
    "#'radiohexagonocuchara_equipocarguio',\n",
    "'capacidad_en_volumen_equipo_carguio_m3',\n",
    "#'capacidad_en_peso_equipo_carguio',\n",
    "#'capacidad_en_peso_equipo_acarreo',\n",
    "#'tiempo_estimado_duracion_estado_pala',\n",
    "#'radio_locacion_metros',\n",
    "#'tiempo_ready_llegada_esperando',\n",
    "#'tiempo_ready_esperando_cuadra',\n",
    "'tonelaje_camion_antes_cargaestabilizada',\n",
    "'angulo_giro_promedio_pases',\n",
    "#'tonelaje_segun_computadora',\n",
    "#'id_equipo_camion', 'id_equipo_carguio',\n",
    "'densidad_inicial_poligono_creado_tn/m3']]  # Reemplaza 'feature1', 'feature2', 'feature3' con tus nombres de características\n",
    "y = datos['numero_pases_carguio'] # Reemplaza 'variable_objetivo' con el nombre de tu variable objetivo"
   ]
  },
  {
   "cell_type": "markdown",
   "metadata": {},
   "source": [
    "3.1 Regresion Lineal"
   ]
  },
  {
   "cell_type": "code",
   "execution_count": null,
   "metadata": {},
   "outputs": [
    {
     "name": "stdout",
     "output_type": "stream",
     "text": [
      "Error Absoluto Medio: 0.9002009422106332\n",
      "Error Cuadrático Medio: 1.3753519848923716\n",
      "Raíz del Error Cuadrático Medio: 1.1727540172143396\n",
      "Coeficiente de Determinación (R^2): 0.08904218678991593\n"
     ]
    }
   ],
   "source": [
    "# Normalizar los datos, para que la red tenga un mejor rendimiento al procesar datos mas pequenos y en una misma escala\n",
    "#scaler = StandardScaler()\n",
    "#X_normalized = scaler.fit_transform(X)\n",
    "\n",
    "# Convertir DataFrame a array de NumPy\n",
    "#X_array = X_normalized\n",
    "#y_array = y.values\n",
    "\n",
    "# Dividir el conjunto de datos en entrenamiento y prueba\n",
    "X_train_rl, X_test_rl, y_train_rl, y_test_rl = train_test_split(X, y, test_size=0.2, random_state=42)\n",
    "\n",
    "# Crear el modelo de regresión lineal múltiple\n",
    "modelo_rl = LinearRegression()\n",
    "\n",
    "# Entrenar el modelo\n",
    "modelo_rl.fit(X_train_rl, y_train_rl)\n",
    "\n",
    "# Realizar predicciones en el conjunto de prueba\n",
    "y_pred_rl = modelo_rl.predict(X_test_rl)\n",
    "\n",
    "# Redondear los valores de y_pred al entero más cercano\n",
    "y_pred_rl = np.round(y_pred_rl).astype('int64')\n",
    "\n",
    "# Medir el rendimiento del modelo\n",
    "error_absoluto_medio_rl = metrics.mean_absolute_error(y_test_rl, y_pred_rl)\n",
    "error_cuadratico_medio_rl = metrics.mean_squared_error(y_test_rl, y_pred_rl)\n",
    "raiz_error_cuadratico_medio_rl = metrics.mean_squared_error(y_test_rl, y_pred_rl, squared=False)\n",
    "coeficiente_de_determinacion_rl = metrics.r2_score(y_test_rl, y_pred_rl)\n",
    "\n",
    "# Imprimir métricas de rendimiento\n",
    "print(f'Error Absoluto Medio: {error_absoluto_medio_rl}')\n",
    "print(f'Error Cuadrático Medio: {error_cuadratico_medio_rl}')\n",
    "print(f'Raíz del Error Cuadrático Medio: {raiz_error_cuadratico_medio_rl}')\n",
    "print(f'Coeficiente de Determinación (R^2): {coeficiente_de_determinacion_rl}')"
   ]
  },
  {
   "cell_type": "markdown",
   "metadata": {},
   "source": [
    "Un RMSE de 1.52 significa que, en promedio, las predicciones tienen un error de alrededor de 1.52 unidades  de nuemro de pases."
   ]
  },
  {
   "cell_type": "markdown",
   "metadata": {},
   "source": [
    "Crear un gráfico de valores reales vs predichos"
   ]
  },
  {
   "cell_type": "code",
   "execution_count": null,
   "metadata": {},
   "outputs": [
    {
     "data": {
      "text/plain": [
       "[<matplotlib.lines.Line2D at 0x27008652690>]"
      ]
     },
     "metadata": {},
     "output_type": "display_data"
    },
    {
     "data": {
      "image/png": "[encoded data removed]",
      "text/plain": [
       "<Figure size 640x480 with 1 Axes>"
      ]
     },
     "metadata": {},
     "output_type": "display_data"
    }
   ],
   "source": [
    "# Visualizar las predicciones\n",
    "plt.scatter(y_test_rl, y_pred_rl)\n",
    "plt.xlabel('Real [Pases]')\n",
    "plt.ylabel('Prediccion [Pases]')\n",
    "lims = [0, 20]\n",
    "plt.xlim(lims)\n",
    "plt.ylim(lims)\n",
    "plt.plot(lims, lims)"
   ]
  },
  {
   "cell_type": "markdown",
   "metadata": {},
   "source": [
    "3.2 Arbol de decision Regressor"
   ]
  },
  {
   "cell_type": "code",
   "execution_count": null,
   "metadata": {},
   "outputs": [
    {
     "name": "stdout",
     "output_type": "stream",
     "text": [
      "Error Absoluto Medio: 0.7508450997654554\n",
      "Error Cuadrático Medio: 1.1065195330613782\n",
      "Raíz del Error Cuadrático Medio: 1.0519123219457875\n"
     ]
    }
   ],
   "source": [
    "from sklearn.tree import DecisionTreeRegressor\n",
    "from sklearn.model_selection import train_test_split\n",
    "from sklearn.metrics import mean_squared_error\n",
    "import matplotlib.pyplot as plt\n",
    "\n",
    "# Supongamos que X es tu conjunto de características y y es tu variable objetivo (Número de Pases)\n",
    "# Asegúrate de tener definidas estas variables antes de ejecutar el código\n",
    "\n",
    "# Normalizar los datos, para que la red tenga un mejor rendimiento al procesar datos mas pequenos y en una misma escala\n",
    "#scaler = StandardScaler()\n",
    "#X_normalized = scaler.fit_transform(X)\n",
    "\n",
    "# Convertir DataFrame a array de NumPy\n",
    "#X_array = X_normalized\n",
    "#y_array = y.values\n",
    "\n",
    "# Dividir el conjunto de datos en entrenamiento y prueba\n",
    "X_train_dt, X_test_dt, y_train_dt, y_test_dt = train_test_split(X, y, test_size=0.2, random_state=42)\n",
    "\n",
    "# Crear el modelo de árbol de decisión para regresión\n",
    "model_arbol = DecisionTreeRegressor(max_depth=5,random_state=42)\n",
    "\n",
    "# Entrenar el modelo\n",
    "model_arbol.fit(X_train_dt, y_train_dt)\n",
    "\n",
    "# Realizar predicciones en el conjunto de prueba\n",
    "y_pred_dt = model_arbol.predict(X_test_dt)\n",
    "\n",
    "# Redondear los valores de y_pred al entero más cercano\n",
    "y_pred_dt = np.round(y_pred_dt).astype('int64')\n",
    "\n",
    "# Visualizar el árbol de decisión (opcional)\n",
    "# Nota: Necesitarás tener instalada la biblioteca graphviz y pydotplus para esto\n",
    "# from sklearn.tree import export_graphviz\n",
    "# import pydotplus\n",
    "# dot_data = export_graphviz(modelo_arbol, out_file=None, feature_names=X.columns, filled=True, rounded=True)\n",
    "# graph = pydotplus.graph_from_dot_data(dot_data)\n",
    "# graph.write_png('arbol_decision.png')\n",
    "\n",
    "# Medir el rendimiento del modelo\n",
    "error_absoluto_medio_dt = metrics.mean_absolute_error(y_test_dt, y_pred_dt)\n",
    "error_cuadratico_medio_dt = metrics.mean_squared_error(y_test_dt, y_pred_dt)\n",
    "raiz_error_cuadratico_medio_dt = metrics.mean_squared_error(y_test_dt, y_pred_dt, squared=False)\n",
    "\n",
    "# Imprimir métricas de rendimiento\n",
    "print(f'Error Absoluto Medio: {error_absoluto_medio_dt}')\n",
    "print(f'Error Cuadrático Medio: {error_cuadratico_medio_dt}')\n",
    "print(f'Raíz del Error Cuadrático Medio: {raiz_error_cuadratico_medio_dt}')"
   ]
  },
  {
   "cell_type": "markdown",
   "metadata": {},
   "source": [
    "3.3 Random Forest "
   ]
  },
  {
   "cell_type": "markdown",
   "metadata": {},
   "source": [
    "Construye cada árbol de forma independiente y paralela. Cada árbol no tiene conocimiento de la existencia de otros árboles."
   ]
  },
  {
   "cell_type": "code",
   "execution_count": null,
   "metadata": {},
   "outputs": [
    {
     "name": "stdout",
     "output_type": "stream",
     "text": [
      "Error Absoluto Medio: 0.7491985833238126\n",
      "Error Cuadrático Medio: 1.097507375721611\n",
      "Raíz del Error Cuadrático Medio: 1.047619862221794\n"
     ]
    }
   ],
   "source": [
    "# Importar librerías necesarias\n",
    "import numpy as np\n",
    "import pandas as pd\n",
    "from sklearn.model_selection import train_test_split\n",
    "from sklearn.ensemble import RandomForestRegressor\n",
    "from sklearn.metrics import mean_squared_error, r2_score\n",
    "import matplotlib.pyplot as plt\n",
    "\n",
    "# Supongamos que tienes un DataFrame llamado df con tus datos, y la columna objetivo es 'target'\n",
    "# Asegúrate de tener las características adecuadas para entrenar el modelo\n",
    "\n",
    "# Normalizar los datos, para que la red tenga un mejor rendimiento al procesar datos mas pequenos y en una misma escala\n",
    "#scaler = StandardScaler()\n",
    "#X_normalized = scaler.fit_transform(X)\n",
    "\n",
    "# Convertir DataFrame a array de NumPy\n",
    "#X_array = X_normalized\n",
    "#y_array = y.values\n",
    "\n",
    "# Dividir el conjunto de datos en entrenamiento y prueba\n",
    "X_train_rf, X_test_rf, y_train_rf, y_test_rf = train_test_split(X, y, test_size=0.2, random_state=42)\n",
    "\n",
    "# Crear el modelo de Random Forest\n",
    "model_rf = RandomForestRegressor(n_estimators=20, max_depth=5 ,random_state=42)\n",
    "\n",
    "# Entrenar el modelo\n",
    "model_rf.fit(X_train_rf, y_train_rf)\n",
    "\n",
    "# Realizar predicciones en el conjunto de prueba\n",
    "y_pred_rf = model_rf.predict(X_test_rf)\n",
    "\n",
    "# Redondear los valores de y_pred al entero más cercano\n",
    "y_pred_rf = np.round(y_pred_rf).astype('int64')\n",
    "\n",
    "# Medir el rendimiento del modelo\n",
    "error_absoluto_medio_rf = metrics.mean_absolute_error(y_test_rf, y_pred_rf)\n",
    "error_cuadratico_medio_rf = metrics.mean_squared_error(y_test_rf, y_pred_rf)\n",
    "raiz_error_cuadratico_medio_rf = metrics.mean_squared_error(y_test_rf, y_pred_rf, squared=False)\n",
    "\n",
    "# Imprimir métricas de rendimiento\n",
    "print(f'Error Absoluto Medio: {error_absoluto_medio_rf}')\n",
    "print(f'Error Cuadrático Medio: {error_cuadratico_medio_rf}')\n",
    "print(f'Raíz del Error Cuadrático Medio: {raiz_error_cuadratico_medio_rf}')"
   ]
  },
  {
   "cell_type": "markdown",
   "metadata": {},
   "source": [
    "3.4 SVM (Support Vector Machine)"
   ]
  },
  {
   "cell_type": "code",
   "execution_count": null,
   "metadata": {},
   "outputs": [],
   "source": [
    "from sklearn.svm import SVR\n",
    "\n",
    "# Normalizar los datos, para que la red tenga un mejor rendimiento al procesar datos mas pequenos y en una misma escala\n",
    "scaler = StandardScaler()\n",
    "X_normalized = scaler.fit_transform(X)\n",
    "\n",
    "# Convertir DataFrame a array de NumPy\n",
    "X_array = X_normalized\n",
    "y_array = y.values\n",
    "\n",
    "# Dividir el conjunto de datos en entrenamiento y prueba\n",
    "X_train_svm, X_test_svm, y_train_svm, y_test_svm = train_test_split(X_array, y_array, test_size=0.2, random_state=42)\n",
    "\n",
    "# Crear y entrenar el modelo de SVM Regressor\n",
    "model_svm = SVR(kernel='linear')  # Puedes ajustar los hiperparámetros según sea necesario\n",
    "model_svm.fit(X_train_svm, y_train_svm)\n",
    "\n",
    "# Realizar predicciones en el conjunto de prueba con SVM Regressor\n",
    "y_pred_svm = model_svm.predict(X_test_svm)\n",
    "y_pred_svm = np.round(y_pred_svm).astype('int64')\n",
    "\n",
    "# Medir el rendimiento del modelo de SVM Regressor\n",
    "error_absoluto_medio_svm = metrics.mean_absolute_error(y_test_svm, y_pred_svm)\n",
    "error_cuadratico_medio_svm = metrics.mean_squared_error(y_test_svm, y_pred_svm)\n",
    "raiz_error_cuadratico_medio_svm = metrics.mean_squared_error(y_test_svm, y_pred_svm, squared=False)\n",
    "\n",
    "# Imprimir métricas de rendimiento de SVM Regressor\n",
    "print(\"\\nMétricas de rendimiento para SVM Regressor:\")\n",
    "print(f'Error Absoluto Medio: {error_absoluto_medio_svm}')\n",
    "print(f'Error Cuadrático Medio: {error_cuadratico_medio_svm}')\n",
    "print(f'Raíz del Error Cuadrático Medio: {raiz_error_cuadratico_medio_svm}')"
   ]
  },
  {
   "cell_type": "markdown",
   "metadata": {},
   "source": [
    "3.5 XGBoost"
   ]
  },
  {
   "cell_type": "markdown",
   "metadata": {},
   "source": [
    "Construye árboles de manera secuencial. Cada árbol se entrena para corregir los errores de los árboles anteriores."
   ]
  },
  {
   "cell_type": "code",
   "execution_count": null,
   "metadata": {},
   "outputs": [
    {
     "name": "stdout",
     "output_type": "stream",
     "text": [
      "Error Absoluto Medio: 0.7213825361729581\n",
      "Error Cuadrático Medio: 1.0284948151533277\n",
      "Raíz del Error Cuadrático Medio: 1.0141473340463543\n"
     ]
    }
   ],
   "source": [
    "# Instalar las bibliotecas necesarias\n",
    "# pip install xgboost scikit-learn matplotlib\n",
    "\n",
    "import numpy as np\n",
    "import pandas as pd\n",
    "from sklearn.model_selection import train_test_split\n",
    "import xgboost as xgb\n",
    "import matplotlib.pyplot as plt\n",
    "from sklearn.preprocessing import StandardScaler\n",
    "\n",
    "# Supongamos que tienes un DataFrame llamado df con tus datos, y la columna objetivo es 'target'\n",
    "# Asegúrate de tener las características adecuadas para entrenar el modelo\n",
    "\n",
    "# Normalizar los datos, para que la red tenga un mejor rendimiento al procesar datos mas pequenos y en una misma escala\n",
    "#scaler = StandardScaler()\n",
    "#X_normalized = scaler.fit_transform(X)\n",
    "\n",
    "# Convertir DataFrame a array de NumPy\n",
    "#X_array = X_normalized\n",
    "#y_array = y.values\n",
    "\n",
    "# Dividir el conjunto de datos en entrenamiento y prueba\n",
    "X_train_xgb, X_test_xgb, y_train_xgb, y_test_xgb = train_test_split(X, y, test_size=0.2, random_state=42)\n",
    "\n",
    "# Crear el modelo de XGBoost\n",
    "model_xgb = xgb.XGBRegressor(\n",
    "    learning_rate = 0.1,\n",
    "    n_estimators=100,  # Número de árboles\n",
    "    max_depth=7,  # Profundidad máxima de los árboles\n",
    "    random_state=42\n",
    ")\n",
    "\n",
    "# Entrenar el modelo\n",
    "model_xgb.fit(X_train_xgb, y_train_xgb)\n",
    "\n",
    "# Realizar predicciones en el conjunto de prueba\n",
    "y_pred_xgb = model_xgb.predict(X_test_xgb)\n",
    "\n",
    "# Redondear los valores de y_pred al entero más cercano\n",
    "y_pred_xgb = np.round(y_pred_xgb).astype('int64')\n",
    "\n",
    "# Medir el rendimiento del modelo\n",
    "error_absoluto_medio_xgb = metrics.mean_absolute_error(y_test_xgb, y_pred_xgb)\n",
    "error_cuadratico_medio_xgb = metrics.mean_squared_error(y_test_xgb, y_pred_xgb)\n",
    "raiz_error_cuadratico_medio_xgb = metrics.mean_squared_error(y_test_xgb, y_pred_xgb, squared=False)\n",
    "\n",
    "# Imprimir métricas de rendimiento\n",
    "print(f'Error Absoluto Medio: {error_absoluto_medio_xgb}')\n",
    "print(f'Error Cuadrático Medio: {error_cuadratico_medio_xgb}')\n",
    "print(f'Raíz del Error Cuadrático Medio: {raiz_error_cuadratico_medio_xgb}')"
   ]
  },
  {
   "cell_type": "markdown",
   "metadata": {},
   "source": [
    "#### Gridseachr para XGB(Hallar los mejores hiperparametros)"
   ]
  },
  {
   "cell_type": "code",
   "execution_count": null,
   "metadata": {},
   "outputs": [
    {
     "name": "stdout",
     "output_type": "stream",
     "text": [
      "Mejores hiperparámetros: {'learning_rate': 0.1, 'max_depth': 7, 'n_estimators': 100}\n",
      "Raíz del Error Cuadrático Medio: 1.0141473340463543\n"
     ]
    }
   ],
   "source": [
    "import numpy as np\n",
    "import pandas as pd\n",
    "from sklearn.model_selection import train_test_split, GridSearchCV\n",
    "from xgboost import XGBRegressor\n",
    "from sklearn.metrics import mean_squared_error\n",
    "\n",
    "# Dividir el conjunto de datos en entrenamiento y prueba\n",
    "X_train_xgb, X_test_xgb, y_train_xgb, y_test_xgb = train_test_split(X, y, test_size=0.2, random_state=42)\n",
    "\n",
    "# Define el modelo XGBoost para regresión\n",
    "model_xgb_regressor = XGBRegressor()\n",
    "\n",
    "# Define los hiperparámetros que deseas probar\n",
    "param_grid = {\n",
    "    'learning_rate': [0.1, 0.01, 0.001],\n",
    "    'n_estimators': [20, 50, 100],\n",
    "    'max_depth': [3, 5, 7]\n",
    "}\n",
    "\n",
    "# Configura la búsqueda de hiperparámetros utilizando GridSearchCV\n",
    "model_grid_search_xgb = GridSearchCV(estimator=model_xgb_regressor, param_grid=param_grid, scoring='neg_mean_squared_error', cv=3)\n",
    "\n",
    "# Ajusta el modelo a los datos de entrenamiento\n",
    "model_grid_search_xgb.fit(X_train_xgb, y_train_xgb)\n",
    "\n",
    "# Muestra los mejores hiperparámetros encontrados\n",
    "print(\"Mejores hiperparámetros:\", model_grid_search_xgb.best_params_)\n",
    "\n",
    "# Realiza predicciones en el conjunto de prueba\n",
    "y_pred_xgb = model_grid_search_xgb.predict(X_test_xgb)\n",
    "\n",
    "# Redondear los valores de y_pred al entero más cercano\n",
    "y_pred_xgb = np.round(y_pred_xgb).astype('int64')\n",
    "\n",
    "# Evalúa el rendimiento del modelo en el conjunto de prueba\n",
    "raiz_error_cuadratico_medio_xgb = metrics.mean_squared_error(y_test_xgb, y_pred_xgb, squared=False)\n",
    "print(f'Raíz del Error Cuadrático Medio: {raiz_error_cuadratico_medio_xgb}')\n"
   ]
  },
  {
   "cell_type": "markdown",
   "metadata": {},
   "source": [
    "Guardar el Mejor Modelo en un extension .pkl"
   ]
  },
  {
   "cell_type": "code",
   "execution_count": null,
   "metadata": {},
   "outputs": [
    {
     "data": {
      "text/plain": [
       "['modelo_xgb_4var.pkl']"
      ]
     },
     "metadata": {},
     "output_type": "display_data"
    }
   ],
   "source": [
    "import joblib\n",
    "\n",
    "# Guardar el modelo en un archivo\n",
    "joblib.dump(model_xgb, 'modelo_xgb_4var.pkl')"
   ]
  },
  {
   "cell_type": "markdown",
   "metadata": {},
   "source": [
    "Obtener las mejores variables segun el modelo"
   ]
  },
  {
   "cell_type": "code",
   "execution_count": null,
   "metadata": {},
   "outputs": [
    {
     "name": "stdout",
     "output_type": "stream",
     "text": [
      "                                   Feature  Importance\n",
      "0   capacidad_en_volumen_equipo_carguio_m3    0.638024\n",
      "2               angulo_giro_promedio_pases    0.312969\n",
      "3   densidad_inicial_poligono_creado_tn/m3    0.036727\n",
      "1  tonelaje_camion_antes_cargaestabilizada    0.012280\n"
     ]
    }
   ],
   "source": [
    "# Obtener las importancias de las características\n",
    "feature_importances = model_xgb.feature_importances_\n",
    "\n",
    "# Crear un DataFrame para mostrar las importancias de las características junto con sus nombres\n",
    "feature_importance_df = pd.DataFrame({\n",
    "    'Feature': X.columns,\n",
    "    'Importance': feature_importances\n",
    "})\n",
    "\n",
    "# Ordenar el DataFrame por importancia en orden descendente\n",
    "feature_importance_df = feature_importance_df.sort_values(by='Importance', ascending=False)\n",
    "\n",
    "# Mostrar las 10 características más importantes\n",
    "print(feature_importance_df.head(15))"
   ]
  },
  {
   "cell_type": "markdown",
   "metadata": {},
   "source": [
    "3.6 Red Neuronal"
   ]
  },
  {
   "cell_type": "code",
   "execution_count": null,
   "metadata": {},
   "outputs": [],
   "source": [
    "# Aseguramos que los resultados sean \"reproducibles\" en cada ejecucion de tensorflow(pesos iniciales aleatorios)\n",
    "import tensorflow as tf\n",
    "import numpy as np\n",
    "\n",
    "np.random.seed(42)\n",
    "tf.random.set_seed(42)"
   ]
  },
  {
   "cell_type": "markdown",
   "metadata": {},
   "source": [
    "3.6.2 Red Neuronal LSTM (Recurrente)"
   ]
  },
  {
   "cell_type": "code",
   "execution_count": null,
   "metadata": {},
   "outputs": [
    {
     "name": "stdout",
     "output_type": "stream",
     "text": [
      "Model: \"sequential_2\"\n",
      "_________________________________________________________________\n",
      " Layer (type)                Output Shape              Param #   \n",
      "=================================================================\n",
      " lstm_2 (LSTM)               (None, 30)                4200      \n",
      "                                                                 \n",
      " dense_8 (Dense)             (None, 60)                1860      \n",
      "                                                                 \n",
      " dense_9 (Dense)             (None, 30)                1830      \n",
      "                                                                 \n",
      " dense_10 (Dense)            (None, 15)                465       \n",
      "                                                                 \n",
      " dense_11 (Dense)            (None, 1)                 16        \n",
      "                                                                 \n",
      "=================================================================\n",
      "Total params: 8371 (32.70 KB)\n",
      "Trainable params: 8371 (32.70 KB)\n",
      "Non-trainable params: 0 (0.00 Byte)\n",
      "_________________________________________________________________\n",
      "Epoch 1/15\n",
      "119039/119039 [==============================] - 286s 2ms/step - loss: 1.0082\n",
      "Epoch 2/15\n",
      "119039/119039 [==============================] - 310s 3ms/step - loss: 0.9680\n",
      "Epoch 3/15\n",
      "119039/119039 [==============================] - 256s 2ms/step - loss: 0.9629\n",
      "Epoch 4/15\n",
      "119039/119039 [==============================] - 141s 1ms/step - loss: 0.9604\n",
      "Epoch 5/15\n",
      "119039/119039 [==============================] - 141s 1ms/step - loss: 0.9593\n",
      "Epoch 6/15\n",
      "119039/119039 [==============================] - 140s 1ms/step - loss: 0.9588\n",
      "Epoch 7/15\n",
      "119039/119039 [==============================] - 138s 1ms/step - loss: 0.9576\n",
      "Epoch 8/15\n",
      "119039/119039 [==============================] - 140s 1ms/step - loss: 0.9572\n",
      "Epoch 9/15\n",
      "119039/119039 [==============================] - 143s 1ms/step - loss: 0.9563\n",
      "Epoch 10/15\n",
      "119039/119039 [==============================] - 142s 1ms/step - loss: 0.9560\n",
      "Epoch 11/15\n",
      "119039/119039 [==============================] - 144s 1ms/step - loss: 0.9560\n",
      "Epoch 12/15\n",
      "119039/119039 [==============================] - 213s 2ms/step - loss: 0.9558\n",
      "Epoch 13/15\n",
      "119039/119039 [==============================] - 254s 2ms/step - loss: 0.9554\n",
      "Epoch 14/15\n",
      "119039/119039 [==============================] - 136s 1ms/step - loss: 0.9553\n",
      "Epoch 15/15\n",
      "119039/119039 [==============================] - 137s 1ms/step - loss: 0.9550\n",
      "4650/4650 [==============================] - 4s 841us/step\n",
      "Raíz del Error Cuadrático Medio en el conjunto de prueba: 1.0316564100286236\n"
     ]
    }
   ],
   "source": [
    "from tensorflow.keras.models import Sequential\n",
    "from tensorflow.keras.layers import Dense, LSTM\n",
    "import numpy as np\n",
    "\n",
    "# Normalizar los datos, para que la red tenga un mejor rendimiento al procesar datos mas pequenos y en una misma escala\n",
    "scaler = StandardScaler()\n",
    "X_normalized = scaler.fit_transform(X)\n",
    "\n",
    "# Convertir DataFrame a array de NumPy\n",
    "X_array = X_normalized\n",
    "y_array = y.values\n",
    "\n",
    "# Dividir los datos en conjuntos de entrenamiento y prueba\n",
    "X_train_rnn, X_test_rnn, y_train_rnn, y_test_rnn = train_test_split(X_array, y_array, test_size=0.2, random_state=42)\n",
    "\n",
    "#---------------------------------------------------------------------------------------------------------------------------------------\n",
    "model_rnn = Sequential()\n",
    "# La forma de entrada para LSTM debe ser (n_timesteps, n_features)\n",
    "model_rnn.add(LSTM(30, activation='relu', input_shape=(1, 4)))  #  (n_samples, n_pasos, n_variables)\n",
    "# Agregar capas Dense según sea necesario\n",
    "model_rnn.add(Dense(60, activation='relu'))\n",
    "model_rnn.add(Dense(30, activation='relu'))\n",
    "model_rnn.add(Dense(15, activation='relu'))\n",
    "# Capa de salida\n",
    "model_rnn.add(Dense(1, activation='linear'))\n",
    "#-------------------------------------------------------------------------------------------------------------------------------------------\n",
    "\n",
    "# Compilar el modelo\n",
    "model_rnn.compile(loss='mean_squared_error', optimizer='adam')\n",
    "# Imprimir un resumen del modelo\n",
    "model_rnn.summary()\n",
    "\n",
    "# Entrenar el modelo\n",
    "#X_train_rnn.reshape(-1, 1, 1) significa que quieres que NumPy calcule automáticamente el tamaño de la dimensión correspondiente a n_samples\n",
    "#Si tienes 15 variables en cada paso de tiempo, entonces la forma de entrada para la capa LSTM debería ser (n_samples, n_timesteps, n_features). \n",
    "#En este caso, la dimensión n_features debería ser 15\n",
    "model_rnn.fit(X_train_rnn.reshape(-1, 1, 4), y_train_rnn, epochs=15, batch_size=5, verbose=1) # (n_samples, n_pasos, n_variables)\n",
    "\n",
    "# Hacer predicciones en el conjunto de prueba\n",
    "y_pred_rnn = model_rnn.predict(X_test_rnn.reshape(-1, 1, 4)) # (n_samples, n_pasos, n_variables)\n",
    "\n",
    "# Redondear los valores de y_pred al entero más cercano\n",
    "y_pred_rnn = np.round(y_pred_rnn).astype('int64')\n",
    "\n",
    "# Calcular el error cuadrático medio en el conjunto de prueba\n",
    "mse = mean_squared_error(y_test_rnn, y_pred_rnn)\n",
    "# Calcular la raíz cuadrada del error cuadrático medio\n",
    "rmse = np.sqrt(mse)\n",
    "\n",
    "print(f'Raíz del Error Cuadrático Medio en el conjunto de prueba: {rmse}')"
   ]
  },
  {
   "cell_type": "code",
   "execution_count": null,
   "metadata": {},
   "outputs": [
    {
     "data": {
      "text/plain": [
       "[<matplotlib.lines.Line2D at 0x2708ac279d0>]"
      ]
     },
     "metadata": {},
     "output_type": "display_data"
    },
    {
     "data": {
      "image/png": "[encoded data removed]",
      "text/plain": [
       "<Figure size 640x480 with 1 Axes>"
      ]
     },
     "metadata": {},
     "output_type": "display_data"
    }
   ],
   "source": [
    "# Visualizar las predicciones\n",
    "plt.scatter(y_test_rnn, y_pred_rnn)\n",
    "plt.xlabel('Real [Pases]')\n",
    "plt.ylabel('Prediccion [Pases]')\n",
    "lims = [0, 20]\n",
    "plt.xlim(lims)\n",
    "plt.ylim(lims)\n",
    "plt.plot(lims, lims)"
   ]
  }
 ],
 "metadata": {
  "kernelspec": {
   "display_name": "base",
   "language": "python",
   "name": "python3"
  },
  "language_info": {
   "codemirror_mode": {
    "name": "ipython",
    "version": 3
   },
   "file_extension": ".py",
   "mimetype": "text/x-python",
   "name": "python",
   "nbconvert_exporter": "python",
   "pygments_lexer": "ipython3",
   "version": "3.11.5"
  }
 },
 "nbformat": 4,
 "nbformat_minor": 2
}
